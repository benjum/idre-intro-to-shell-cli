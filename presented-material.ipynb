{
 "cells": [
  {
   "cell_type": "markdown",
   "id": "martial-maker",
   "metadata": {},
   "source": [
    "Recommended ref: http://linuxcommand.org/lc3_lts0010.php\n",
    "\n",
    "https://learntocodewith.me/getting-started/topics/command-line/"
   ]
  },
  {
   "cell_type": "markdown",
   "id": "lucky-glory",
   "metadata": {},
   "source": [
    "# Introduction to the Linux Shell:  Using the Command Line"
   ]
  },
  {
   "cell_type": "markdown",
   "id": "editorial-protocol",
   "metadata": {},
   "source": [
    "Interacting with our computers:\n",
    "\n",
    "<img src=\"images/W10_basic_features.jpeg\" alt=\"linux shell\" width=\"400\"/>\n",
    "\n",
    "[Image link](https://www.tutorialspoint.com/windows10/windows10_gui_basics.htm)\n",
    "\n",
    "<img src=\"images/Mac_Leopard_Desktop.png\" alt=\"linux shell\" width=\"400\"/>\n",
    "\n",
    "[Image link](https://en.wikipedia.org/wiki/Aqua_(user_interface))\n",
    "\n",
    "<img src=\"images/Linux_C62XRdQp8CkvSrfQVKxPCH-1024-80.png\" alt=\"linux shell\" width=\"400\"/>\n",
    "\n",
    "[Image link](https://www.tomshardware.com/news/linux-desktop-environment-face-off)\n",
    "\n",
    "<img src=\"images/Linux-Cli-vs-Gui.png\" alt=\"linux shell\" width=\"400\"/>\n",
    "\n",
    "[Image link](https://www.fossmint.com/why-linux-users-prefer-the-commandline-to-a-gui/)"
   ]
  },
  {
   "cell_type": "markdown",
   "id": "close-relative",
   "metadata": {},
   "source": [
    "## What is the \"shell\"?\n",
    "\n",
    "The shell is a program that takes your human-readable commands and gives them to the operating system to perform."
   ]
  },
  {
   "cell_type": "markdown",
   "id": "vanilla-honey",
   "metadata": {},
   "source": [
    "<img src=\"images/linux-architecture-image.png\" alt=\"linux shell\" width=\"400\"/>"
   ]
  },
  {
   "cell_type": "markdown",
   "id": "generous-pepper",
   "metadata": {},
   "source": [
    "**Kernel**: The kernel manages stuff like files, processes, I/O, memory, and devices.  The kernel is computer software that lies at the heart of a computer's operating system.\n",
    "\n",
    "How do I give my commands to the shell?  Through a terminal!"
   ]
  },
  {
   "cell_type": "markdown",
   "id": "continued-enhancement",
   "metadata": {},
   "source": [
    "<img src=\"images/IBM_2741_(I197205).png\" alt=\"early terminal\" width=\"200\"/>\n",
    "<img src=\"images/440px-IBM2741.jpeg\" alt=\"early terminal\" width=\"200\"/>\n",
    "<img src=\"images/ASR-33_1.jpeg\" alt=\"early terminal\" width=\"200\"/>"
   ]
  },
  {
   "cell_type": "markdown",
   "id": "difficult-lebanon",
   "metadata": {},
   "source": [
    "Fortunately we have a little more flexibility now in how we give commands to our computers.  But conceptually the concept is very similar.\n",
    "\n",
    "**Terminal**: The terminal allows you to interact with the shell."
   ]
  },
  {
   "cell_type": "markdown",
   "id": "herbal-electricity",
   "metadata": {},
   "source": [
    "## Why would I use a CLI and give text commands to the shell rather than use a GUI?\n",
    "\n",
    "Advantages:\n",
    "\n",
    "* power\n",
    "  * high action-to-keystroke ratio\n",
    "* flexibility\n",
    "* support for automating repetitive tasks\n",
    "* capacity to access networked machines\n",
    "  * sometimes it's just necessary!\n",
    "  \n",
    "Disadvantages:\n",
    "\n",
    "* primarily only textual in nature\n",
    "* can be cryptic"
   ]
  },
  {
   "cell_type": "markdown",
   "id": "desirable-writer",
   "metadata": {},
   "source": [
    "# Let's dive in: Simple commands"
   ]
  },
  {
   "cell_type": "markdown",
   "id": "dressed-singles",
   "metadata": {},
   "source": [
    "* `date` - print the date\n",
    "* `whoami` - displays username\n",
    "* `exit` - end the terminal session"
   ]
  },
  {
   "cell_type": "markdown",
   "id": "tracked-terrorist",
   "metadata": {},
   "source": [
    "# Navigating files and directories"
   ]
  },
  {
   "cell_type": "markdown",
   "id": "cordless-flower",
   "metadata": {},
   "source": [
    "## The file tree\n",
    "\n",
    "Actual tree that I want in my yard:\n",
    "\n",
    "<img src=\"images/Desert-Museum-Palo-Verde.jpg\" alt=\"palo verde tree\" width=\"400\"/>\n",
    "\n",
    "[Image link](https://flylib.com/books/en/1.295.1.47/1/)\n",
    "\n",
    "Windows tree\n",
    "\n",
    "<img src=\"images/windows-tree.jpg\" alt=\"Windows tree\" width=\"400\"/>\n",
    "\n",
    "[Image link](https://flylib.com/books/en/1.295.1.47/1/)\n",
    "\n",
    "Linux tree:\n",
    "\n",
    "<img src=\"images/linux-tree.jpg\" alt=\"Linux tree\" width=\"400\"/>\n",
    "\n",
    "[Image link](https://flylib.com/books/en/1.295.1.47/1/)\n",
    "\n",
    "A kind-of sideways/upside-down tree:\n",
    "\n",
    "<img src=\"images/windows-sideways-tree.jpg\" alt=\"Linux tree\" width=\"400\"/>\n",
    "\n",
    "[Image link](https://ece.uwaterloo.ca/~dwharder/aads/Online/Unix/directories/)\n",
    "\n",
    "Linux file tree\n",
    "    \n",
    "<img src=\"images/linux-directory-tree-sample.jpg\" alt=\"actual Linux file tree\" width=\"400\" />\n",
    "\n",
    "[Image link](https://www.linuxtrainingacademy.com/linux-directory-structure-and-file-system-hierarchy/)\n",
    "\n",
    "\n",
    "\n",
    "\n"
   ]
  },
  {
   "cell_type": "markdown",
   "id": "advanced-triumph",
   "metadata": {},
   "source": [
    "* `pwd` - print the current working directory\n",
    "* `ls` - list directory contents\n",
    "* `cd` - change directory"
   ]
  },
  {
   "cell_type": "markdown",
   "id": "italic-preference",
   "metadata": {},
   "source": [
    "absolute vs relative paths (e.g. /home/jovyan/shell-course/basicdir vs ./basicdir or basicdir)\n",
    "* `.` - working directory\n",
    "* `..` - working directory's parent directory\n",
    "* `~` - home directory"
   ]
  },
  {
   "cell_type": "markdown",
   "id": "monetary-commonwealth",
   "metadata": {},
   "source": [
    "* `ls` - list contents of working directory\n",
    "* `ls /usr` - list contents of a specific directory (here /usr)\n",
    "* `ls ~ /usr` - list contents of several directories\n",
    "* `ls -a` - list all files\n",
    "* `ls -l` - list files with long format output"
   ]
  },
  {
   "cell_type": "markdown",
   "id": "surprised-instrument",
   "metadata": {},
   "source": [
    "**Exercise**\n",
    "\n",
    "Starting from a theoretical directory named `/home/jovyan/data`, which of the following commands could you use to navigate to your home directory, which is here `/home/jovyan`?\n",
    "1. `cd .`\n",
    "1. `cd /`\n",
    "1. `cd /Users/jovyan`\n",
    "1. `cd ../..`\n",
    "1. `cd ~`\n",
    "1. `cd home`\n",
    "1. `cd ~/data/..`\n",
    "1. `cd`\n",
    "1. `cd ..`"
   ]
  },
  {
   "cell_type": "markdown",
   "id": "satellite-emperor",
   "metadata": {},
   "source": [
    "# Commands"
   ]
  },
  {
   "cell_type": "markdown",
   "id": "musical-mentor",
   "metadata": {},
   "source": [
    "`command -options arguments`\n",
    "\n",
    "* multiple options can be listed together after the '-'\n",
    "* options are often a '-' plus a single letter, but can also be long format with '--' plus a full word)"
   ]
  },
  {
   "cell_type": "markdown",
   "id": "arctic-andrews",
   "metadata": {},
   "source": [
    "Example with ls\n",
    "\n",
    "```\n",
    "$ ls -l\n",
    "-rw-r--r-- 1 jovyan root 164412 Jul 30 01:49 shell-basics.ipynb\n",
    "```\n",
    "\n",
    "\n",
    "1. `-rw-r--r--` : access rights; the first character denotes the type of file and the rest denote Permissions\n",
    "2. `1` : number of Links\n",
    "3. `jovyan` : file owner\n",
    "4. `root` : group owner\n",
    "5. `164412` : size of file in bytes\n",
    "6. `Jul 30 01:49` : last modification time\n",
    "7. `shell-basics.ipynb` : filename"
   ]
  },
  {
   "cell_type": "markdown",
   "id": "revised-chase",
   "metadata": {},
   "source": [
    "Another example:  `ls --help`"
   ]
  },
  {
   "cell_type": "markdown",
   "id": "copyrighted-bristol",
   "metadata": {},
   "source": [
    "**Exercise**\n",
    "\n",
    "* Try `ls` with `-lh`\n",
    "* Guess what it does by comparing with `ls -l`\n",
    "* Look at `ls --help` to check"
   ]
  },
  {
   "cell_type": "markdown",
   "id": "documentary-dictionary",
   "metadata": {},
   "source": [
    "# Working with files and directories"
   ]
  },
  {
   "cell_type": "markdown",
   "id": "therapeutic-morning",
   "metadata": {},
   "source": [
    "Looking at file contents\n",
    "\n",
    "* `cat`\n",
    "* `more` or `less`\n",
    "* `head` or `tail`\n",
    "\n",
    "Creating/Editing files\n",
    "\n",
    "* often done via other programs\n",
    "* text editors can be used through the shell: vi, nano, emacs\n",
    "* `touch`\n",
    "\n",
    "Names and extensions\n",
    "\n",
    "* case matters\n",
    "* `.hiddenfiles` - filenames with a leading period (`.`) are hidden\n",
    "* extensions don't matter in Linux, though may for Windows/Mac\n",
    "* be careful with spaces, since words separated on a command line are interpreted as distinct parts of a command\n",
    "* using wildcards in names during commands\n",
    "  * `?` – matches a single occurrence of any character\n",
    "  * `*` – matches one or more occurrences of any character, including no character\n",
    "  * `[characters]` – matches any character that is a member of the set characters"
   ]
  },
  {
   "cell_type": "markdown",
   "id": "annoying-content",
   "metadata": {},
   "source": [
    "**Exercise**\n",
    "\n",
    "When run in the molecules directory, which ls command(s) will produce this output?\n",
    "\n",
    "ethane.pdb methane.pdb\n",
    "\n",
    "1. `ls *t*ane.pdb`\n",
    "2. `ls *t?ne.*`\n",
    "3. `ls *t??ne.pdb`\n",
    "4. `ls ethane.*`"
   ]
  },
  {
   "cell_type": "markdown",
   "id": "dress-stress",
   "metadata": {},
   "source": [
    "# Working with files and directories continued"
   ]
  },
  {
   "cell_type": "markdown",
   "id": "certain-prospect",
   "metadata": {},
   "source": [
    "Creating directories\n",
    "\n",
    "* `mkdir [path]`\n",
    "\n",
    "Moving files and directories\n",
    "\n",
    "* `mv [old] [new]`\n",
    "\n",
    "Copying\n",
    "\n",
    "* `cp [old] [new]`\n",
    "\n",
    "Deleting\n",
    "\n",
    "* `rm [path]`\n",
    "* `rm -i [path]` will be interactive for extra caution if you'd like\n",
    "* `rm -r [path]` is necessary to delete directories\n",
    "\n",
    "* **Be careful with rm!!**  There is no trash bin in Linux, so you can't easily retrieve your removed files.\n",
    "\n",
    "  * *Tip:*  if you want to use wildcards along with rm, try using ls first to see what you're actually going to remove.\n",
    "\n",
    "Operating on many files/dirs at once\n",
    "\n",
    "* `cp [old1] [old2] [...] [new_dir]`\n",
    "  * `[new]` must be a directory!\n",
    "* `cp -r [old_dir] [new_dir]`\n",
    "* `mv * [new_dir]`"
   ]
  },
  {
   "cell_type": "markdown",
   "id": "graphic-cooler",
   "metadata": {},
   "source": [
    "**Exercises**\n",
    "\n",
    "(1)\n",
    "Say that I have the moved my raw data files into the wrong directory:\n",
    "```\n",
    "$ pwd\n",
    "/home/jovyan/shell-course\n",
    "$ ls\n",
    "analyzed_data raw_data\n",
    "$ ls raw_data\n",
    "$ ls analyzed_data\n",
    "file1.dat file2.dat file3.dat\n",
    "$ cd raw_data\n",
    "```\n",
    "* What command can I now use to move all three files into the analyzed_data folder?\n",
    "* Try writing the command at least two ways.\n",
    "\n",
    "(2)\n",
    "What is the output of the last line of this command sequence?\n",
    "```\n",
    "$ pwd\n",
    "/home/jovyan/shell-course\n",
    "$ ls\n",
    "fav_names.txt\n",
    "$ mkdir names\n",
    "$ mv fav_names.txt names/\n",
    "$ cp names/fav_names.txt ../fav-names-backup.txt\n",
    "$ ls\n",
    "```\n",
    "1. `fav-names-backup.txt names`\n",
    "2. `names`\n",
    "3. `fav-names.txt names`\n",
    "4. `fav-names-backup.txt`"
   ]
  },
  {
   "cell_type": "markdown",
   "id": "binary-developer",
   "metadata": {},
   "source": [
    "# I/O redirection"
   ]
  },
  {
   "cell_type": "markdown",
   "id": "leading-jones",
   "metadata": {},
   "source": [
    "Send output to a file\n",
    "\n",
    "* `[command] > [file]` - write standard output to a file; create if new or overwrite if exists\n",
    "* `[command] >> [file]` - append standard output to a file\n",
    "* `[command] &> [file]` - write both standard output and standard error to a file\n",
    "\n",
    "Use alternate method for standard input to command\n",
    "\n",
    "* `[command] < [file]`\n",
    "\n",
    "Pipelines: use standard output of one command as standard input for another command\n",
    "\n",
    "* `[command] | [command]`"
   ]
  },
  {
   "cell_type": "markdown",
   "id": "prostate-ownership",
   "metadata": {},
   "source": [
    "# Permissions\n",
    "\n",
    "rwx -- 111 (or 7 in decimal lingo)"
   ]
  }
 ],
 "metadata": {
  "kernelspec": {
   "display_name": "Bash",
   "language": "bash",
   "name": "bash"
  },
  "language_info": {
   "codemirror_mode": "shell",
   "file_extension": ".sh",
   "mimetype": "text/x-sh",
   "name": "bash"
  },
  "toc": {
   "base_numbering": 1,
   "nav_menu": {},
   "number_sections": true,
   "sideBar": true,
   "skip_h1_title": false,
   "title_cell": "Table of Contents",
   "title_sidebar": "Contents",
   "toc_cell": false,
   "toc_position": {},
   "toc_section_display": true,
   "toc_window_display": false
  }
 },
 "nbformat": 4,
 "nbformat_minor": 5
}
